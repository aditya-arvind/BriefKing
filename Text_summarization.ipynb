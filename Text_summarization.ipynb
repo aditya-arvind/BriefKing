{
  "nbformat": 4,
  "nbformat_minor": 0,
  "metadata": {
    "colab": {
      "name": "Text_summarization.ipynb",
      "provenance": [],
      "authorship_tag": "ABX9TyPd4R52ovZbyONbuhbG97YE",
      "include_colab_link": true
    },
    "kernelspec": {
      "name": "python3",
      "display_name": "Python 3"
    },
    "language_info": {
      "name": "python"
    }
  },
  "cells": [
    {
      "cell_type": "markdown",
      "metadata": {
        "id": "view-in-github",
        "colab_type": "text"
      },
      "source": [
        "<a href=\"https://colab.research.google.com/github/aditya-arvind/BriefKing/blob/main/Text_summarization.ipynb\" target=\"_parent\"><img src=\"https://colab.research.google.com/assets/colab-badge.svg\" alt=\"Open In Colab\"/></a>"
      ]
    },
    {
      "cell_type": "code",
      "metadata": {
        "id": "MClw_zZV1ryW"
      },
      "source": [
        "pip install transformers"
      ],
      "execution_count": null,
      "outputs": []
    },
    {
      "cell_type": "code",
      "metadata": {
        "id": "45j0FGaI1zMU"
      },
      "source": [
        "from transformers import pipeline"
      ],
      "execution_count": null,
      "outputs": []
    },
    {
      "cell_type": "code",
      "metadata": {
        "id": "1OoPHACo3JEb"
      },
      "source": [
        "get_putin=open('putin.txt','r').read()"
      ],
      "execution_count": null,
      "outputs": []
    },
    {
      "cell_type": "code",
      "metadata": {
        "id": "p4XpxVaT17oA"
      },
      "source": [
        "summarizer = pipeline(\"summarization\")\n",
        "summary=summarizer(get_putin, min_length=30, max_length=130,truncation=True)\n",
        "print(summary)"
      ],
      "execution_count": null,
      "outputs": []
    },
    {
      "cell_type": "code",
      "metadata": {
        "id": "90alFGlX2bvX"
      },
      "source": [
        "summarizer = pipeline(\"summarization\", model=\"t5-base\", tokenizer=\"t5-base\", framework=\"tf\")\n",
        "summary_t5=summarizer(get_putin, min_length=30, max_length=130,truncation=True)\n",
        "print(summary_t5)"
      ],
      "execution_count": null,
      "outputs": []
    }
  ]
}